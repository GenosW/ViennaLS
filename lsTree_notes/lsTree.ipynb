{
 "cells": [
  {
   "cell_type": "markdown",
   "metadata": {},
   "source": [
    "%writefile\n",
    "# Trees\n",
    "\n",
    "https://stackoverflow.com/questions/5963954/fast-templated-c-octree-implementation\n",
    "\n",
    "https://iq.opengenus.org/octree/\n"
   ]
  },
  {
   "cell_type": "markdown",
   "metadata": {},
   "source": [
    "%%writefile notes.md\n",
    "# Notes\n",
    "\n",
    "## Quad-/Octree\n",
    "\n",
    "[C++ octree implementation](https://stackoverflow.com/questions/5963954/fast-templated-c-octree-implementation)\n",
    "\n",
    "[Octree basics](https://iq.opengenus.org/octree/)\n",
    "\n",
    "## kd-Tree\n",
    "\n",
    "[Rosetta Code kd-Tree implementation](https://rosettacode.org/wiki/K-d_tree)\n",
    "\n",
    "k-d trees are not suitable, however, for efficiently finding the nearest neighbor in high dimensional spaces. As a general rule, if the dimensionality is k, the number of points in the data, N, should be $N \\gg 2^k$. Otherwise, when k-d trees are used with high-dimensional data, most of the points in the tree will be evaluated and the efficiency is no better than exhaustive search, and other methods such as approximate nearest-neighbor are used instead.\n",
    "\n",
    "Task: Construct a k-d tree and perform a nearest neighbor search for two example data sets:\n",
    "\n",
    "    The Wikipedia example data of [(2,3), (5,4), (9,6), (4,7), (8,1), (7,2)].\n",
    "    1000 3-d points uniformly distributed in a 3-d cube.\n",
    "\n",
    "For the Wikipedia example, find the nearest neighbor to point (9, 2) For the random data, pick a random location and find the nearest neighbor.\n",
    "\n",
    "In addition, instrument your code to count the number of nodes visited in the nearest neighbor search. Count a node as visited if any field of it is accessed.\n",
    "\n",
    "Output should show the point searched for, the point found, the distance to the point, and the number of nodes visited.\n",
    "\n",
    "There are variant algorithms for constructing the tree. You can use a simple median strategy or implement something more efficient. Variants of the nearest neighbor search include nearest N neighbors, approximate nearest neighbor, and range searches. You do not have to implement these. The requirement for this task is specifically the nearest single neighbor. Also there are algorithms for inserting, deleting, and balancing k-d trees. These are also not required for the task. \n",
    "\n",
    "## Dev Notes\n",
    "\n",
    "- Look at Tests as examples more\n",
    "    - MakeSphere: lsToDiskMesh (modified)\n",
    "- lsTree will be 'similar' to lsToDiskMesh and lsMesh:\n",
    "    - std::vector<std::array<T, 3>> nodes: coordinates of (surface) points\n",
    "- The area/volume we want to partition is the bounding box around the original surface\n",
    "\n",
    "## Fork\n",
    "\n",
    "I forked the ViennaLS repo and created a branch for my fork called `lsTree`.\n",
    "\n",
    "Remote looks as follows atm:\n",
    "\n",
    "```\n",
    "> git remote -v\n",
    "origin  git@github.com:GenosW/ViennaLS.git (fetch)\n",
    "origin  git@github.com:GenosW/ViennaLS.git (push)\n",
    "upstream        git@github.com:ViennaTools/ViennaLS.git (fetch)\n",
    "upstream        git@github.com:ViennaTools/ViennaLS.git (push)\n",
    "```\n",
    "\n",
    "### Synch changes from Main into my fork\n",
    "\n",
    "1. Commit most recent local changes:\n",
    "    - `git add .` \n",
    "    - `git commit -m \"message\"`\n",
    "2. Pull from Upstream (main repo) to my local repo:\n",
    "    - `git pull upstream master`\n",
    "3. Deal with merge conflicts (should there be any).\n",
    "4. Push local changes to my forks origin:\n",
    "    - `git push origin`\n"
   ]
  },
  {
   "cell_type": "markdown",
   "metadata": {},
   "source": [
    "## lsTree\n",
    "\n",
    "### Iterator\n",
    "\n",
    "node.start = 2, node.stop = 6\n",
    "        .     .  \n",
    "[0,1,5,7,2,7,0,1]\n",
    "regionQuery(pt) --> itBeginRegion, itEndRegion\n",
    "boundingBoxQuery(box) --> 4x itBeginRegion, itEndRegion\n",
    "mesh->nodes() --> [0,1,5,7,2,7,0,1]"
   ]
  },
  {
   "cell_type": "markdown",
   "metadata": {},
   "source": [
    "# Tree parameters\n",
    "\n",
    "How do the Tree parameters (depth, size, number of bins, ...) change depending on how we want to bin the area/volume/mesh?"
   ]
  },
  {
   "cell_type": "code",
   "execution_count": null,
   "metadata": {},
   "outputs": [],
   "source": [
    "import numpy as np"
   ]
  },
  {
   "cell_type": "code",
   "execution_count": null,
   "metadata": {},
   "outputs": [],
   "source": [
    "def printParams():\n",
    "    typ = \"Quadtree\" if D==2 else \"Octree\"\n",
    "    print(f\"{typ}\")\n",
    "\n",
    "    print(f\"pts in {D}dim grid: {N_total}\")\n",
    "    print(f\"d_l: {d_l}\")\n",
    "    print(f\"Bins per dir: {B_dir}\")\n",
    "\n",
    "    print()\n",
    "    print(f\"Levels: {levels}\")\n",
    "    print(f\"Number of bins: {N_bins}\")"
   ]
  },
  {
   "cell_type": "code",
   "execution_count": null,
   "metadata": {},
   "outputs": [],
   "source": [
    "D = 2 # Quadtree\n",
    "D = 3 # Octree\n",
    "\n",
    "# grid\n",
    "d_l = 100\n",
    "N_total = d_l**D\n",
    "# bin: per dir\n",
    "l_dir = 20\n",
    "binsPerNode = 2**D\n",
    "binPtsPerDir = d_l / l_dir\n",
    "\n",
    "# Number of bins per dir\n",
    "B_dir = d_l / ptsPerDir\n",
    "\n",
    "# Number of levels\n",
    "levels = np.log(B_dir) / np.log(binsPerNode)\n",
    "N_bins = (2**D)**levels\n",
    "\n",
    "printParams()"
   ]
  },
  {
   "cell_type": "code",
   "execution_count": null,
   "metadata": {},
   "outputs": [],
   "source": [
    "np.log2(4)"
   ]
  },
  {
   "cell_type": "code",
   "execution_count": null,
   "metadata": {},
   "outputs": [],
   "source": [
    "2.32**2"
   ]
  },
  {
   "cell_type": "markdown",
   "metadata": {},
   "source": [
    "# Let's play this through\n",
    "\n",
    "Example for D=2"
   ]
  },
  {
   "cell_type": "code",
   "execution_count": null,
   "metadata": {},
   "outputs": [],
   "source": [
    "D = 2\n",
    "binsPerLevel = 2**D\n",
    "print(\"(Points per dir, points in grid)\")\n",
    "d_l, d_l**D"
   ]
  },
  {
   "cell_type": "markdown",
   "metadata": {},
   "source": [
    "## L1\n",
    "We now partition it in half ('BST' per dir) per direction.\n",
    "In case of a 2D grid, we use a Quadtree and partition into 4 quadrants.\n",
    "\n",
    "Current Tree:\n",
    "\n",
    "```\n",
    "root\n",
    "| - NE \n",
    "| - NW \n",
    "| - SW\n",
    "| - SE\n",
    "```\n",
    "\n",
    "Each quadrant represents a number of points (we will look at the points per dim for now).\n",
    "\n",
    "Then we look in each quadrant, check wether they should be split again."
   ]
  },
  {
   "cell_type": "code",
   "execution_count": null,
   "metadata": {},
   "outputs": [],
   "source": [
    "print(\"(Current points per quadrant and dir , total per quadrant)\")\n",
    "quad_perDir = d_l / 2\n",
    "quad_perDir, quad_perDir**D"
   ]
  },
  {
   "cell_type": "code",
   "execution_count": null,
   "metadata": {},
   "outputs": [],
   "source": [
    "print(\"(Current points per quadrant and dir , total per quadrant)\")\n",
    "quad_perDir = d_l / 2\n",
    "quad_perDir, quad_perDir**D"
   ]
  },
  {
   "cell_type": "markdown",
   "metadata": {},
   "source": [
    "## L2\n",
    "Let's focus on the NE quadrant for now:\n",
    "\n",
    "In terms of x,y coordinates: (x > 0 && y > 0)\n",
    "\n",
    "If we split this region in 4 quadrants again...\n",
    "\n",
    "```\n",
    "root [l0]\n",
    "| - NE [l1](50x50)\n",
    "    | - NE [l2] (25x25)=625\n",
    "    | - NW [l2] (25x25)\n",
    "    | - SW [l2] (25x25)\n",
    "    | - SE [l2] (25x25)\n",
    ".\n",
    ".\n",
    ".\n",
    "```"
   ]
  },
  {
   "cell_type": "code",
   "execution_count": null,
   "metadata": {},
   "outputs": [],
   "source": [
    "print(\"(Current points per quadrant and dir , total per quadrant)\")\n",
    "quad_perDir = quad_perDir / 2\n",
    "quad_perDir, quad_perDir**D"
   ]
  },
  {
   "cell_type": "markdown",
   "metadata": {},
   "source": [
    "If we do this for each original (l1-)quadrant, we'll have the following total number of bins:"
   ]
  },
  {
   "cell_type": "code",
   "execution_count": null,
   "metadata": {},
   "outputs": [],
   "source": [
    "levels = 2\n",
    "binsPerLevel ** levels"
   ]
  },
  {
   "cell_type": "markdown",
   "metadata": {},
   "source": []
  },
  {
   "cell_type": "markdown",
   "metadata": {},
   "source": [
    "## L3\n",
    "If we split each l2-quadrant again into 4 sub-quadrants again...\n",
    "\n",
    "```\n",
    "root [L0]\n",
    "| - NE [L1](50x50)\n",
    "    | - NE [L2] (25x25)=625\n",
    "        | origin... center of NE [l2]\n",
    "        | - NE [L3] (12x13)=156\n",
    "        | - NW [L3] (12x13)\n",
    "        | - SW [L3] (12x13)\n",
    "        | - SE [L3] (12x13)\n",
    "    | - NW [L2] (25x25)\n",
    "        ...\n",
    "    | - SW [L2] (25x25)\n",
    "        ...\n",
    "    | - SE [L2] (25x25)\n",
    "        ...\n",
    ".\n",
    ".\n",
    ".\n",
    "```"
   ]
  },
  {
   "cell_type": "code",
   "execution_count": null,
   "metadata": {},
   "outputs": [],
   "source": [
    "625 / 4"
   ]
  },
  {
   "cell_type": "code",
   "execution_count": null,
   "metadata": {},
   "outputs": [],
   "source": [
    "np.sqrt(156.25)"
   ]
  },
  {
   "cell_type": "code",
   "execution_count": null,
   "metadata": {},
   "outputs": [],
   "source": [
    "# 2 12x12 and 2 13x13\n",
    "12**D * 2 + 13**D * 2 "
   ]
  },
  {
   "cell_type": "code",
   "execution_count": null,
   "metadata": {},
   "outputs": [],
   "source": [
    "# 4 12x13\n",
    "(12*13), (12*13) * 4"
   ]
  },
  {
   "cell_type": "markdown",
   "metadata": {},
   "source": [
    "We could store the \"origin\" of the l3 quadrants (so the center of the l2 quadrant) as a point in the l2-quadrant node.\n",
    "\n",
    "How does this affect the query?\n",
    "- if corner of query-region is the origin of the level... all subquadrants"
   ]
  },
  {
   "cell_type": "code",
   "execution_count": null,
   "metadata": {},
   "outputs": [],
   "source": [
    "levels = 3\n",
    "binsPerLevel ** levels\n"
   ]
  },
  {
   "cell_type": "markdown",
   "metadata": {},
   "source": [
    "## L4\n",
    "If we split each l3-quadrant again into 4 sub-quadrants again...\n",
    "\n",
    "```\n",
    "root [L0]\n",
    "| - NE [L1](50x50)\n",
    "    | - NE [L2] (25x25)=625\n",
    "        | origin... center of NE [l2]\n",
    "        | - NE [L3] (12x13)=156\n",
    "            | - NE [L4] (6x7)=36\n",
    "            | - NW [L4] (6x7)\n",
    "            | - SW [L4] (6x6)=42\n",
    "            | - SE [L4] (6x6)\n",
    "        | - NW [L3] (12x13)\n",
    "        | - SW [L3] (12x13)\n",
    "        | - SE [L3] (12x13)\n",
    "        ...\n",
    ".\n",
    ".\n",
    ".\n",
    "```"
   ]
  },
  {
   "cell_type": "code",
   "execution_count": null,
   "metadata": {},
   "outputs": [],
   "source": [
    "# 2 6x6 & 2 6x7\n",
    "((6*6), (6*7)), 2*(6*6) + 2*(6*7)\n"
   ]
  },
  {
   "cell_type": "markdown",
   "metadata": {},
   "source": [
    "This way, we'd have 4 unequally populated quadrants.\n",
    "\n",
    "### Idea\n",
    "\n",
    "Similar to how we stored the origin of the quadrant when we split L2, we could store an entire row here."
   ]
  },
  {
   "cell_type": "code",
   "execution_count": null,
   "metadata": {},
   "outputs": [],
   "source": [
    "import matplotlib.pyplot as plt"
   ]
  },
  {
   "cell_type": "code",
   "execution_count": null,
   "metadata": {},
   "outputs": [],
   "source": [
    "N=10\n",
    "points = np.random.randint(-10,10,size=(2,N))\n",
    "points"
   ]
  },
  {
   "cell_type": "code",
   "execution_count": null,
   "metadata": {},
   "outputs": [],
   "source": [
    "x, y = points\n",
    "x"
   ]
  },
  {
   "cell_type": "code",
   "execution_count": null,
   "metadata": {},
   "outputs": [],
   "source": [
    "plt.figure(figsize=(8,8))\n",
    "plt.plot(x,y, ls=\"\", marker=\"p\", ms=4)\n",
    "ax = plt.gca()\n",
    "ax.set_xlim((-10,10))\n",
    "ax.set_ylim((-10,10))\n",
    "plt.grid(True);"
   ]
  },
  {
   "cell_type": "code",
   "execution_count": null,
   "metadata": {},
   "outputs": [],
   "source": [
    "x_idx = np.argsort(x)\n",
    "y_idx = np.argsort(y)"
   ]
  },
  {
   "cell_type": "code",
   "execution_count": null,
   "metadata": {},
   "outputs": [],
   "source": [
    "x_idx, y_idx "
   ]
  },
  {
   "cell_type": "code",
   "execution_count": null,
   "metadata": {},
   "outputs": [],
   "source": []
  },
  {
   "cell_type": "code",
   "execution_count": null,
   "metadata": {},
   "outputs": [],
   "source": [
    "def mysort(arr, N, indices):\n",
    "    size_left = int(N/2)\n",
    "    size_right = int(N - size_left)\n",
    "    left = np.zeros(size_left)\n",
    "    right = np.zeros(size_right)\n",
    "\n",
    "    n = 0\n",
    "    for idx, i in enumerate(indices):\n",
    "        if i in arr:\n",
    "            left[n] = i\n",
    "            n += 1\n",
    "            if n==size_left:\n",
    "                offset = idx\n",
    "                break\n",
    "    n = 0\n",
    "    for i in indices[offset+1:]:\n",
    "        if i in arr:\n",
    "            right[n] = i\n",
    "            n += 1\n",
    "            if n==size_right:\n",
    "                break\n",
    "    return left, right"
   ]
  },
  {
   "cell_type": "code",
   "execution_count": null,
   "metadata": {},
   "outputs": [],
   "source": [
    "left_y = y_idx[:int(N/2)]\n",
    "print(\"Sorting: \", left_y)\n",
    "print(\"by: \", x_idx)\n",
    "l1, r1 = mysort(left_y, N/2, x_idx)\n",
    "l1, r1"
   ]
  },
  {
   "cell_type": "code",
   "execution_count": null,
   "metadata": {},
   "outputs": [],
   "source": [
    "right_y = y_idx[int(N/2):]\n",
    "print(\"Sorting: \", right_y)\n",
    "print(\"by: \", x_idx)\n",
    "l2, r2 = mysort(right_y, N/2, x_idx)\n",
    "l2, r2"
   ]
  },
  {
   "cell_type": "code",
   "execution_count": null,
   "metadata": {},
   "outputs": [],
   "source": [
    "plt.figure(figsize=(8,8))\n",
    "for idx, (x_, y_) in enumerate(zip(x,y)):\n",
    "    if idx in l1:\n",
    "        color = \"red\"\n",
    "    elif idx in r1:\n",
    "        color = \"green\"\n",
    "    elif idx in l2:\n",
    "        color = \"blue\"\n",
    "    elif idx in r2:\n",
    "        color = \"black\"\n",
    "    else:\n",
    "        color = \"yellow\"\n",
    "    plt.plot(x_,y_, ls=\"\", marker=\"p\", ms=4, color=color)\n",
    "ax = plt.gca()\n",
    "ax.set_xlim((-10,10))\n",
    "ax.set_ylim((-10,10))\n",
    "plt.grid(True);"
   ]
  },
  {
   "cell_type": "markdown",
   "metadata": {},
   "source": [
    "The global ordering works, but then it doesn't really work well with the  way I've built the tree so far...\n",
    "\n",
    "Works better if you build the tree level-by-level instead of building nodes till you reach a leaf."
   ]
  },
  {
   "cell_type": "code",
   "execution_count": null,
   "metadata": {},
   "outputs": [],
   "source": [
    "import numpy as np"
   ]
  },
  {
   "cell_type": "code",
   "execution_count": null,
   "metadata": {},
   "outputs": [],
   "source": [
    "def findRoot(node):\n",
    "    root = np.ceil(node/2) -1\n",
    "    return int(root)\n",
    "\n",
    "\n",
    "def getChildren(node):\n",
    "    left = node*2 + 1\n",
    "    right = node*2 + 2\n",
    "    return int(left), int(right)\n",
    "\n",
    "def nodeSize(level):\n",
    "    return N/ 2**level\n",
    "\n",
    "N = 56"
   ]
  },
  {
   "cell_type": "code",
   "execution_count": null,
   "metadata": {},
   "outputs": [],
   "source": [
    "def generateTree(level=4):\n",
    "    \"\"\"Generate the edges needed to construct a kd-Tree with given number of levels. \n",
    "\n",
    "    Can be pasted into https://dreampuf.github.io/GraphvizOnline/\n",
    "    \"\"\"\n",
    "    graph = []\n",
    "    idx = 1\n",
    "    for level in range(1,levels+1):\n",
    "        for node in range(2**level):\n",
    "            root = findRoot(idx)\n",
    "            graph.append(f\"{root}->{idx};\")\n",
    "            idx += 1\n",
    "    dotGraph = '\\n'.join(map(str, graph))\n",
    "    print(dotGraph)\n",
    "    return dotGraph"
   ]
  },
  {
   "cell_type": "code",
   "execution_count": null,
   "metadata": {},
   "outputs": [],
   "source": [
    "generateTree(3);"
   ]
  },
  {
   "cell_type": "code",
   "execution_count": null,
   "metadata": {},
   "outputs": [],
   "source": [
    "nodeSize(3)"
   ]
  },
  {
   "cell_type": "code",
   "execution_count": null,
   "metadata": {},
   "outputs": [],
   "source": [
    "nodeSize(4)\n"
   ]
  },
  {
   "cell_type": "code",
   "execution_count": null,
   "metadata": {},
   "outputs": [],
   "source": [
    "# L4\n",
    "l0 = 1\n",
    "l1 = 2\n",
    "l2 = 4\n",
    "l3 = 8\n",
    "total = l0 + l1 + l2 + l3\n",
    "total\n"
   ]
  },
  {
   "cell_type": "code",
   "execution_count": null,
   "metadata": {},
   "outputs": [],
   "source": [
    "0, 1,1, 2,2,2,2, 3\n",
    "0, 1,2, 3,4,5,6, 7"
   ]
  },
  {
   "cell_type": "code",
   "execution_count": null,
   "metadata": {},
   "outputs": [],
   "source": [
    "A = np.matrix([\n",
    "    [1,1,1,0],\n",
    "    [1,0,0,0],\n",
    "    [0,1,0,1],\n",
    "    [0,0,1,1]\n",
    "])\n",
    "A"
   ]
  },
  {
   "cell_type": "code",
   "execution_count": null,
   "metadata": {},
   "outputs": [],
   "source": [
    "np.linalg.det(A)"
   ]
  },
  {
   "cell_type": "code",
   "execution_count": null,
   "metadata": {},
   "outputs": [],
   "source": [
    "def memory_of(array_size:int, prec:int = 64, dim=\"MB\"):\n",
    "    size = 3*8 * prec * array_size \n",
    "    if dim == \"kB\": \n",
    "        size /= 1e3\n",
    "    elif dim == \"MB\": \n",
    "        size /= 1e6\n",
    "    elif dim == \"GB\": \n",
    "        size /= 1e9\n",
    "    else:\n",
    "        return \"wrong dim\"\n",
    "    return f\"{size:.1g}\" + dim"
   ]
  },
  {
   "cell_type": "markdown",
   "metadata": {},
   "source": []
  },
  {
   "cell_type": "code",
   "execution_count": null,
   "metadata": {},
   "outputs": [],
   "source": [
    "memory_of(20000, dim=\"GB\")"
   ]
  },
  {
   "cell_type": "code",
   "execution_count": null,
   "metadata": {},
   "outputs": [],
   "source": []
  },
  {
   "cell_type": "markdown",
   "metadata": {},
   "source": [
    "## Scratch pad"
   ]
  },
  {
   "cell_type": "code",
   "execution_count": 5,
   "metadata": {},
   "outputs": [],
   "source": [
    "import numpy as np\n",
    "import matplotlib.pyplot as plt\n",
    "import cycler\n",
    "import matplotlib as mpl\n",
    "\n",
    "%matplotlib inline\n",
    "\n",
    "def graph_points(bins:list, cmap):\n",
    "  fig = plt.figure(figsize=(10,8))\n",
    "\n",
    "  print(\"number of bins:\", len(bins))\n",
    "  print(\"min points per bin:\", min([len(bucket) for bucket in bins]))\n",
    "  print(\"max points per bin:\", max([len(bucket) for bucket in bins]))\n",
    "  N = sum([len(bucket) for bucket in bins])\n",
    "  print(\"N: \", N)\n",
    "\n",
    "  colors = cmap(np.linspace(0, 1, len(bins)))\n",
    "  # colors = cmap.colors\n",
    "  mpl.rcParams['axes.prop_cycle'] = cycler.cycler('color', colors)\n",
    "\n",
    "  bucket_color = -15\n",
    "  marker = \"x\"\n",
    "  for idx, bucket in enumerate(bins):\n",
    "    # if bucket_color > - 5 and bucket_color < 13:\n",
    "    #   print(bucket)\n",
    "    #   print(bucket_color)\n",
    "    #   print(\"#\"*30)\n",
    "    xs = [pt[0] for pt in bucket]\n",
    "    ys = [pt[1] for pt in bucket]\n",
    "    plt.plot(xs, ys, ls=\"\", marker=marker, label=f\"bin{idx}(color={bucket_color})\", ms=15)\n",
    "    bucket_color += 2\n",
    "    marker = \"p\" if marker==\"x\" else \"x\"\n",
    "\n",
    "  \n",
    "  plt.legend(bbox_to_anchor=(1.05, 1), loc='upper left', borderaxespad=0.)\n",
    "\n",
    "\n"
   ]
  },
  {
   "cell_type": "code",
   "execution_count": 2,
   "metadata": {},
   "outputs": [],
   "source": [
    "import importlib\n",
    "import testOutput.GridTree.meshes.sphere._2D_Tree as d2_tree\n",
    "import testOutput.GridTree.meshes.sphere._2D_TreeDisk as d2_treedisk\n",
    "importlib.reload(d2_tree)\n",
    "importlib.reload(d2_treedisk)\n",
    "bins = d2_tree.bins\n",
    "bins = d2_treedisk.bins"
   ]
  },
  {
   "cell_type": "code",
   "execution_count": 6,
   "metadata": {},
   "outputs": [
    {
     "name": "stdout",
     "output_type": "stream",
     "text": [
      "number of bins: 16\n",
      "min points per bin: 4\n",
      "max points per bin: 4\n",
      "N:  64\n"
     ]
    },
    {
     "data": {
      "image/png": "[encoded data removed]",
      "text/plain": [
       "<Figure size 720x576 with 1 Axes>"
      ]
     },
     "metadata": {
      "needs_background": "light"
     },
     "output_type": "display_data"
    }
   ],
   "source": [
    "\n",
    "cmap = plt.get_cmap('seismic')\n",
    "cmap = plt.get_cmap('tab20c')\n",
    "\n",
    "\n",
    "graph_points(bins, cmap)"
   ]
  },
  {
   "cell_type": "code",
   "execution_count": null,
   "metadata": {},
   "outputs": [],
   "source": [
    "ß"
   ]
  }
 ],
 "metadata": {
  "interpreter": {
   "hash": "aee8b7b246df8f9039afb4144a1f6fd8d2ca17a180786b69acc140d282b71a49"
  },
  "kernelspec": {
   "display_name": "Python 3.9.7 64-bit",
   "name": "python3"
  },
  "language_info": {
   "codemirror_mode": {
    "name": "ipython",
    "version": 3
   },
   "file_extension": ".py",
   "mimetype": "text/x-python",
   "name": "python",
   "nbconvert_exporter": "python",
   "pygments_lexer": "ipython3",
   "version": "3.9.7"
  },
  "orig_nbformat": 2
 },
 "nbformat": 4,
 "nbformat_minor": 2
}
